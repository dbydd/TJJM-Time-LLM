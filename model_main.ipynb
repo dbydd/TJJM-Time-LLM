{
 "cells": [],
 "metadata": {
  "kernelspec": {
   "display_name": "ai_models",
   "language": "python",
   "name": "python3"
  },
  "language_info": {
   "name": "python",
   "version": "3.11.9"
  }
 },
 "nbformat": 4,
 "nbformat_minor": 2
}
